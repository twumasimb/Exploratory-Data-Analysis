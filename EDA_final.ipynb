{
  "nbformat": 4,
  "nbformat_minor": 0,
  "metadata": {
    "colab": {
      "provenance": [],
      "authorship_tag": "ABX9TyNpEKN/CI4hkud/8gQzkYPO",
      "include_colab_link": true
    },
    "kernelspec": {
      "name": "python3",
      "display_name": "Python 3"
    },
    "language_info": {
      "name": "python"
    }
  },
  "cells": [
    {
      "cell_type": "markdown",
      "metadata": {
        "id": "view-in-github",
        "colab_type": "text"
      },
      "source": [
        "<a href=\"https://colab.research.google.com/github/twumasimb/Exploratory-Data-Analysis/blob/main/EDA_final.ipynb\" target=\"_parent\"><img src=\"https://colab.research.google.com/assets/colab-badge.svg\" alt=\"Open In Colab\"/></a>"
      ]
    },
    {
      "cell_type": "code",
      "source": [
        "# Importing necessary libraries\n",
        "import matplotlib.pyplot as plt\n",
        "import numpy as np\n",
        "import seaborn as sns\n",
        "import pandas as pd\n",
        "import statsmodels.api as sm\n",
        "from scipy.stats import norm\n",
        "import random"
      ],
      "metadata": {
        "id": "kPQtnq-QYuXN"
      },
      "execution_count": 22,
      "outputs": []
    },
    {
      "cell_type": "code",
      "source": [
        "data = pd.read_csv('/content/sample_data/dataset.csv') # Importing the dataset"
      ],
      "metadata": {
        "id": "lPbpFabrZDJ7"
      },
      "execution_count": 3,
      "outputs": []
    },
    {
      "cell_type": "code",
      "source": [
        "# Population statistics\n",
        "data.describe()"
      ],
      "metadata": {
        "colab": {
          "base_uri": "https://localhost:8080/",
          "height": 300
        },
        "id": "JLyjk8C0dNQ_",
        "outputId": "260d924d-3980-4b0a-a337-9b80172b9fe0"
      },
      "execution_count": 16,
      "outputs": [
        {
          "output_type": "execute_result",
          "data": {
            "text/plain": [
              "               ptr      TOT_ENR_M      TOT_ENR_F        TOT_ENR  Mean_rating\n",
              "count  1020.000000    1020.000000    1020.000000    1020.000000  1020.000000\n",
              "mean     12.724380    2545.966667    2409.072549    4955.039216     3.204280\n",
              "std       2.493322    7152.729136    6819.987053   13972.312388     0.539454\n",
              "min       4.070981      10.000000      10.000000      20.000000     1.750000\n",
              "25%      11.012754     195.750000     190.500000     385.500000     2.875000\n",
              "50%      12.769690     509.500000     460.500000     971.500000     3.250000\n",
              "75%      14.688600    1611.250000    1512.500000    3104.250000     3.625000\n",
              "max      21.200001  109666.000000  106323.000000  215989.000000     4.000000"
            ],
            "text/html": [
              "\n",
              "  <div id=\"df-772dbf7d-5060-4624-9349-0fba65bea59f\">\n",
              "    <div class=\"colab-df-container\">\n",
              "      <div>\n",
              "<style scoped>\n",
              "    .dataframe tbody tr th:only-of-type {\n",
              "        vertical-align: middle;\n",
              "    }\n",
              "\n",
              "    .dataframe tbody tr th {\n",
              "        vertical-align: top;\n",
              "    }\n",
              "\n",
              "    .dataframe thead th {\n",
              "        text-align: right;\n",
              "    }\n",
              "</style>\n",
              "<table border=\"1\" class=\"dataframe\">\n",
              "  <thead>\n",
              "    <tr style=\"text-align: right;\">\n",
              "      <th></th>\n",
              "      <th>ptr</th>\n",
              "      <th>TOT_ENR_M</th>\n",
              "      <th>TOT_ENR_F</th>\n",
              "      <th>TOT_ENR</th>\n",
              "      <th>Mean_rating</th>\n",
              "    </tr>\n",
              "  </thead>\n",
              "  <tbody>\n",
              "    <tr>\n",
              "      <th>count</th>\n",
              "      <td>1020.000000</td>\n",
              "      <td>1020.000000</td>\n",
              "      <td>1020.000000</td>\n",
              "      <td>1020.000000</td>\n",
              "      <td>1020.000000</td>\n",
              "    </tr>\n",
              "    <tr>\n",
              "      <th>mean</th>\n",
              "      <td>12.724380</td>\n",
              "      <td>2545.966667</td>\n",
              "      <td>2409.072549</td>\n",
              "      <td>4955.039216</td>\n",
              "      <td>3.204280</td>\n",
              "    </tr>\n",
              "    <tr>\n",
              "      <th>std</th>\n",
              "      <td>2.493322</td>\n",
              "      <td>7152.729136</td>\n",
              "      <td>6819.987053</td>\n",
              "      <td>13972.312388</td>\n",
              "      <td>0.539454</td>\n",
              "    </tr>\n",
              "    <tr>\n",
              "      <th>min</th>\n",
              "      <td>4.070981</td>\n",
              "      <td>10.000000</td>\n",
              "      <td>10.000000</td>\n",
              "      <td>20.000000</td>\n",
              "      <td>1.750000</td>\n",
              "    </tr>\n",
              "    <tr>\n",
              "      <th>25%</th>\n",
              "      <td>11.012754</td>\n",
              "      <td>195.750000</td>\n",
              "      <td>190.500000</td>\n",
              "      <td>385.500000</td>\n",
              "      <td>2.875000</td>\n",
              "    </tr>\n",
              "    <tr>\n",
              "      <th>50%</th>\n",
              "      <td>12.769690</td>\n",
              "      <td>509.500000</td>\n",
              "      <td>460.500000</td>\n",
              "      <td>971.500000</td>\n",
              "      <td>3.250000</td>\n",
              "    </tr>\n",
              "    <tr>\n",
              "      <th>75%</th>\n",
              "      <td>14.688600</td>\n",
              "      <td>1611.250000</td>\n",
              "      <td>1512.500000</td>\n",
              "      <td>3104.250000</td>\n",
              "      <td>3.625000</td>\n",
              "    </tr>\n",
              "    <tr>\n",
              "      <th>max</th>\n",
              "      <td>21.200001</td>\n",
              "      <td>109666.000000</td>\n",
              "      <td>106323.000000</td>\n",
              "      <td>215989.000000</td>\n",
              "      <td>4.000000</td>\n",
              "    </tr>\n",
              "  </tbody>\n",
              "</table>\n",
              "</div>\n",
              "      <button class=\"colab-df-convert\" onclick=\"convertToInteractive('df-772dbf7d-5060-4624-9349-0fba65bea59f')\"\n",
              "              title=\"Convert this dataframe to an interactive table.\"\n",
              "              style=\"display:none;\">\n",
              "        \n",
              "  <svg xmlns=\"http://www.w3.org/2000/svg\" height=\"24px\"viewBox=\"0 0 24 24\"\n",
              "       width=\"24px\">\n",
              "    <path d=\"M0 0h24v24H0V0z\" fill=\"none\"/>\n",
              "    <path d=\"M18.56 5.44l.94 2.06.94-2.06 2.06-.94-2.06-.94-.94-2.06-.94 2.06-2.06.94zm-11 1L8.5 8.5l.94-2.06 2.06-.94-2.06-.94L8.5 2.5l-.94 2.06-2.06.94zm10 10l.94 2.06.94-2.06 2.06-.94-2.06-.94-.94-2.06-.94 2.06-2.06.94z\"/><path d=\"M17.41 7.96l-1.37-1.37c-.4-.4-.92-.59-1.43-.59-.52 0-1.04.2-1.43.59L10.3 9.45l-7.72 7.72c-.78.78-.78 2.05 0 2.83L4 21.41c.39.39.9.59 1.41.59.51 0 1.02-.2 1.41-.59l7.78-7.78 2.81-2.81c.8-.78.8-2.07 0-2.86zM5.41 20L4 18.59l7.72-7.72 1.47 1.35L5.41 20z\"/>\n",
              "  </svg>\n",
              "      </button>\n",
              "      \n",
              "  <style>\n",
              "    .colab-df-container {\n",
              "      display:flex;\n",
              "      flex-wrap:wrap;\n",
              "      gap: 12px;\n",
              "    }\n",
              "\n",
              "    .colab-df-convert {\n",
              "      background-color: #E8F0FE;\n",
              "      border: none;\n",
              "      border-radius: 50%;\n",
              "      cursor: pointer;\n",
              "      display: none;\n",
              "      fill: #1967D2;\n",
              "      height: 32px;\n",
              "      padding: 0 0 0 0;\n",
              "      width: 32px;\n",
              "    }\n",
              "\n",
              "    .colab-df-convert:hover {\n",
              "      background-color: #E2EBFA;\n",
              "      box-shadow: 0px 1px 2px rgba(60, 64, 67, 0.3), 0px 1px 3px 1px rgba(60, 64, 67, 0.15);\n",
              "      fill: #174EA6;\n",
              "    }\n",
              "\n",
              "    [theme=dark] .colab-df-convert {\n",
              "      background-color: #3B4455;\n",
              "      fill: #D2E3FC;\n",
              "    }\n",
              "\n",
              "    [theme=dark] .colab-df-convert:hover {\n",
              "      background-color: #434B5C;\n",
              "      box-shadow: 0px 1px 3px 1px rgba(0, 0, 0, 0.15);\n",
              "      filter: drop-shadow(0px 1px 2px rgba(0, 0, 0, 0.3));\n",
              "      fill: #FFFFFF;\n",
              "    }\n",
              "  </style>\n",
              "\n",
              "      <script>\n",
              "        const buttonEl =\n",
              "          document.querySelector('#df-772dbf7d-5060-4624-9349-0fba65bea59f button.colab-df-convert');\n",
              "        buttonEl.style.display =\n",
              "          google.colab.kernel.accessAllowed ? 'block' : 'none';\n",
              "\n",
              "        async function convertToInteractive(key) {\n",
              "          const element = document.querySelector('#df-772dbf7d-5060-4624-9349-0fba65bea59f');\n",
              "          const dataTable =\n",
              "            await google.colab.kernel.invokeFunction('convertToInteractive',\n",
              "                                                     [key], {});\n",
              "          if (!dataTable) return;\n",
              "\n",
              "          const docLinkHtml = 'Like what you see? Visit the ' +\n",
              "            '<a target=\"_blank\" href=https://colab.research.google.com/notebooks/data_table.ipynb>data table notebook</a>'\n",
              "            + ' to learn more about interactive tables.';\n",
              "          element.innerHTML = '';\n",
              "          dataTable['output_type'] = 'display_data';\n",
              "          await google.colab.output.renderOutput(dataTable, element);\n",
              "          const docLink = document.createElement('div');\n",
              "          docLink.innerHTML = docLinkHtml;\n",
              "          element.appendChild(docLink);\n",
              "        }\n",
              "      </script>\n",
              "    </div>\n",
              "  </div>\n",
              "  "
            ]
          },
          "metadata": {},
          "execution_count": 16
        }
      ]
    },
    {
      "cell_type": "code",
      "source": [
        "#randomly selecting 100 datapoints\n",
        "random.seed(20) # Ensure we get the same results all the time\n",
        "\n",
        "sampled_data = data.sample(n=100)\n"
      ],
      "metadata": {
        "id": "Qr3T46z9ZZNg"
      },
      "execution_count": 5,
      "outputs": []
    },
    {
      "cell_type": "code",
      "source": [
        "#peeping at sampled data\n",
        "sampled_data.describe()"
      ],
      "metadata": {
        "colab": {
          "base_uri": "https://localhost:8080/",
          "height": 300
        },
        "id": "uouugqWSZ848",
        "outputId": "4201eecc-cda4-4827-8d08-bc5ab234193b"
      },
      "execution_count": 8,
      "outputs": [
        {
          "output_type": "execute_result",
          "data": {
            "text/plain": [
              "              ptr     TOT_ENR_M     TOT_ENR_F       TOT_ENR  Mean_rating\n",
              "count  100.000000    100.000000    100.000000    100.000000   100.000000\n",
              "mean    12.676574   2069.820000   1941.280000   4011.100000     3.217679\n",
              "std      2.385016   5191.135238   4877.413197  10068.382474     0.547758\n",
              "min      7.000000     33.000000     30.000000     77.000000     2.000000\n",
              "25%     10.972796    212.250000    196.500000    403.750000     2.875000\n",
              "50%     12.874595    525.000000    507.000000   1025.500000     3.250000\n",
              "75%     14.352116   1448.500000   1334.250000   2799.750000     3.750000\n",
              "max     17.141464  29699.000000  27653.000000  57352.000000     4.000000"
            ],
            "text/html": [
              "\n",
              "  <div id=\"df-dc7e2ad7-a251-4d94-8168-fd8140316b62\">\n",
              "    <div class=\"colab-df-container\">\n",
              "      <div>\n",
              "<style scoped>\n",
              "    .dataframe tbody tr th:only-of-type {\n",
              "        vertical-align: middle;\n",
              "    }\n",
              "\n",
              "    .dataframe tbody tr th {\n",
              "        vertical-align: top;\n",
              "    }\n",
              "\n",
              "    .dataframe thead th {\n",
              "        text-align: right;\n",
              "    }\n",
              "</style>\n",
              "<table border=\"1\" class=\"dataframe\">\n",
              "  <thead>\n",
              "    <tr style=\"text-align: right;\">\n",
              "      <th></th>\n",
              "      <th>ptr</th>\n",
              "      <th>TOT_ENR_M</th>\n",
              "      <th>TOT_ENR_F</th>\n",
              "      <th>TOT_ENR</th>\n",
              "      <th>Mean_rating</th>\n",
              "    </tr>\n",
              "  </thead>\n",
              "  <tbody>\n",
              "    <tr>\n",
              "      <th>count</th>\n",
              "      <td>100.000000</td>\n",
              "      <td>100.000000</td>\n",
              "      <td>100.000000</td>\n",
              "      <td>100.000000</td>\n",
              "      <td>100.000000</td>\n",
              "    </tr>\n",
              "    <tr>\n",
              "      <th>mean</th>\n",
              "      <td>12.676574</td>\n",
              "      <td>2069.820000</td>\n",
              "      <td>1941.280000</td>\n",
              "      <td>4011.100000</td>\n",
              "      <td>3.217679</td>\n",
              "    </tr>\n",
              "    <tr>\n",
              "      <th>std</th>\n",
              "      <td>2.385016</td>\n",
              "      <td>5191.135238</td>\n",
              "      <td>4877.413197</td>\n",
              "      <td>10068.382474</td>\n",
              "      <td>0.547758</td>\n",
              "    </tr>\n",
              "    <tr>\n",
              "      <th>min</th>\n",
              "      <td>7.000000</td>\n",
              "      <td>33.000000</td>\n",
              "      <td>30.000000</td>\n",
              "      <td>77.000000</td>\n",
              "      <td>2.000000</td>\n",
              "    </tr>\n",
              "    <tr>\n",
              "      <th>25%</th>\n",
              "      <td>10.972796</td>\n",
              "      <td>212.250000</td>\n",
              "      <td>196.500000</td>\n",
              "      <td>403.750000</td>\n",
              "      <td>2.875000</td>\n",
              "    </tr>\n",
              "    <tr>\n",
              "      <th>50%</th>\n",
              "      <td>12.874595</td>\n",
              "      <td>525.000000</td>\n",
              "      <td>507.000000</td>\n",
              "      <td>1025.500000</td>\n",
              "      <td>3.250000</td>\n",
              "    </tr>\n",
              "    <tr>\n",
              "      <th>75%</th>\n",
              "      <td>14.352116</td>\n",
              "      <td>1448.500000</td>\n",
              "      <td>1334.250000</td>\n",
              "      <td>2799.750000</td>\n",
              "      <td>3.750000</td>\n",
              "    </tr>\n",
              "    <tr>\n",
              "      <th>max</th>\n",
              "      <td>17.141464</td>\n",
              "      <td>29699.000000</td>\n",
              "      <td>27653.000000</td>\n",
              "      <td>57352.000000</td>\n",
              "      <td>4.000000</td>\n",
              "    </tr>\n",
              "  </tbody>\n",
              "</table>\n",
              "</div>\n",
              "      <button class=\"colab-df-convert\" onclick=\"convertToInteractive('df-dc7e2ad7-a251-4d94-8168-fd8140316b62')\"\n",
              "              title=\"Convert this dataframe to an interactive table.\"\n",
              "              style=\"display:none;\">\n",
              "        \n",
              "  <svg xmlns=\"http://www.w3.org/2000/svg\" height=\"24px\"viewBox=\"0 0 24 24\"\n",
              "       width=\"24px\">\n",
              "    <path d=\"M0 0h24v24H0V0z\" fill=\"none\"/>\n",
              "    <path d=\"M18.56 5.44l.94 2.06.94-2.06 2.06-.94-2.06-.94-.94-2.06-.94 2.06-2.06.94zm-11 1L8.5 8.5l.94-2.06 2.06-.94-2.06-.94L8.5 2.5l-.94 2.06-2.06.94zm10 10l.94 2.06.94-2.06 2.06-.94-2.06-.94-.94-2.06-.94 2.06-2.06.94z\"/><path d=\"M17.41 7.96l-1.37-1.37c-.4-.4-.92-.59-1.43-.59-.52 0-1.04.2-1.43.59L10.3 9.45l-7.72 7.72c-.78.78-.78 2.05 0 2.83L4 21.41c.39.39.9.59 1.41.59.51 0 1.02-.2 1.41-.59l7.78-7.78 2.81-2.81c.8-.78.8-2.07 0-2.86zM5.41 20L4 18.59l7.72-7.72 1.47 1.35L5.41 20z\"/>\n",
              "  </svg>\n",
              "      </button>\n",
              "      \n",
              "  <style>\n",
              "    .colab-df-container {\n",
              "      display:flex;\n",
              "      flex-wrap:wrap;\n",
              "      gap: 12px;\n",
              "    }\n",
              "\n",
              "    .colab-df-convert {\n",
              "      background-color: #E8F0FE;\n",
              "      border: none;\n",
              "      border-radius: 50%;\n",
              "      cursor: pointer;\n",
              "      display: none;\n",
              "      fill: #1967D2;\n",
              "      height: 32px;\n",
              "      padding: 0 0 0 0;\n",
              "      width: 32px;\n",
              "    }\n",
              "\n",
              "    .colab-df-convert:hover {\n",
              "      background-color: #E2EBFA;\n",
              "      box-shadow: 0px 1px 2px rgba(60, 64, 67, 0.3), 0px 1px 3px 1px rgba(60, 64, 67, 0.15);\n",
              "      fill: #174EA6;\n",
              "    }\n",
              "\n",
              "    [theme=dark] .colab-df-convert {\n",
              "      background-color: #3B4455;\n",
              "      fill: #D2E3FC;\n",
              "    }\n",
              "\n",
              "    [theme=dark] .colab-df-convert:hover {\n",
              "      background-color: #434B5C;\n",
              "      box-shadow: 0px 1px 3px 1px rgba(0, 0, 0, 0.15);\n",
              "      filter: drop-shadow(0px 1px 2px rgba(0, 0, 0, 0.3));\n",
              "      fill: #FFFFFF;\n",
              "    }\n",
              "  </style>\n",
              "\n",
              "      <script>\n",
              "        const buttonEl =\n",
              "          document.querySelector('#df-dc7e2ad7-a251-4d94-8168-fd8140316b62 button.colab-df-convert');\n",
              "        buttonEl.style.display =\n",
              "          google.colab.kernel.accessAllowed ? 'block' : 'none';\n",
              "\n",
              "        async function convertToInteractive(key) {\n",
              "          const element = document.querySelector('#df-dc7e2ad7-a251-4d94-8168-fd8140316b62');\n",
              "          const dataTable =\n",
              "            await google.colab.kernel.invokeFunction('convertToInteractive',\n",
              "                                                     [key], {});\n",
              "          if (!dataTable) return;\n",
              "\n",
              "          const docLinkHtml = 'Like what you see? Visit the ' +\n",
              "            '<a target=\"_blank\" href=https://colab.research.google.com/notebooks/data_table.ipynb>data table notebook</a>'\n",
              "            + ' to learn more about interactive tables.';\n",
              "          element.innerHTML = '';\n",
              "          dataTable['output_type'] = 'display_data';\n",
              "          await google.colab.output.renderOutput(dataTable, element);\n",
              "          const docLink = document.createElement('div');\n",
              "          docLink.innerHTML = docLinkHtml;\n",
              "          element.appendChild(docLink);\n",
              "        }\n",
              "      </script>\n",
              "    </div>\n",
              "  </div>\n",
              "  "
            ]
          },
          "metadata": {},
          "execution_count": 8
        }
      ]
    },
    {
      "cell_type": "code",
      "source": [
        "dataset = sampled_data.drop(['TOT_ENR_M', 'TOT_ENR_F', 'TOT_ENR'], axis=1)"
      ],
      "metadata": {
        "id": "HynUTtCgaB07"
      },
      "execution_count": 13,
      "outputs": []
    },
    {
      "cell_type": "code",
      "source": [
        "dataset.describe() # Sampled data statistics"
      ],
      "metadata": {
        "colab": {
          "base_uri": "https://localhost:8080/",
          "height": 300
        },
        "id": "W0sbbjiXbe98",
        "outputId": "3056022e-bc05-4ac0-ac21-b4b0dc6a73a4"
      },
      "execution_count": 15,
      "outputs": [
        {
          "output_type": "execute_result",
          "data": {
            "text/plain": [
              "              ptr  Mean_rating\n",
              "count  100.000000   100.000000\n",
              "mean    12.676574     3.217679\n",
              "std      2.385016     0.547758\n",
              "min      7.000000     2.000000\n",
              "25%     10.972796     2.875000\n",
              "50%     12.874595     3.250000\n",
              "75%     14.352116     3.750000\n",
              "max     17.141464     4.000000"
            ],
            "text/html": [
              "\n",
              "  <div id=\"df-f1bd0769-90de-4840-99a1-54a76e35c9d3\">\n",
              "    <div class=\"colab-df-container\">\n",
              "      <div>\n",
              "<style scoped>\n",
              "    .dataframe tbody tr th:only-of-type {\n",
              "        vertical-align: middle;\n",
              "    }\n",
              "\n",
              "    .dataframe tbody tr th {\n",
              "        vertical-align: top;\n",
              "    }\n",
              "\n",
              "    .dataframe thead th {\n",
              "        text-align: right;\n",
              "    }\n",
              "</style>\n",
              "<table border=\"1\" class=\"dataframe\">\n",
              "  <thead>\n",
              "    <tr style=\"text-align: right;\">\n",
              "      <th></th>\n",
              "      <th>ptr</th>\n",
              "      <th>Mean_rating</th>\n",
              "    </tr>\n",
              "  </thead>\n",
              "  <tbody>\n",
              "    <tr>\n",
              "      <th>count</th>\n",
              "      <td>100.000000</td>\n",
              "      <td>100.000000</td>\n",
              "    </tr>\n",
              "    <tr>\n",
              "      <th>mean</th>\n",
              "      <td>12.676574</td>\n",
              "      <td>3.217679</td>\n",
              "    </tr>\n",
              "    <tr>\n",
              "      <th>std</th>\n",
              "      <td>2.385016</td>\n",
              "      <td>0.547758</td>\n",
              "    </tr>\n",
              "    <tr>\n",
              "      <th>min</th>\n",
              "      <td>7.000000</td>\n",
              "      <td>2.000000</td>\n",
              "    </tr>\n",
              "    <tr>\n",
              "      <th>25%</th>\n",
              "      <td>10.972796</td>\n",
              "      <td>2.875000</td>\n",
              "    </tr>\n",
              "    <tr>\n",
              "      <th>50%</th>\n",
              "      <td>12.874595</td>\n",
              "      <td>3.250000</td>\n",
              "    </tr>\n",
              "    <tr>\n",
              "      <th>75%</th>\n",
              "      <td>14.352116</td>\n",
              "      <td>3.750000</td>\n",
              "    </tr>\n",
              "    <tr>\n",
              "      <th>max</th>\n",
              "      <td>17.141464</td>\n",
              "      <td>4.000000</td>\n",
              "    </tr>\n",
              "  </tbody>\n",
              "</table>\n",
              "</div>\n",
              "      <button class=\"colab-df-convert\" onclick=\"convertToInteractive('df-f1bd0769-90de-4840-99a1-54a76e35c9d3')\"\n",
              "              title=\"Convert this dataframe to an interactive table.\"\n",
              "              style=\"display:none;\">\n",
              "        \n",
              "  <svg xmlns=\"http://www.w3.org/2000/svg\" height=\"24px\"viewBox=\"0 0 24 24\"\n",
              "       width=\"24px\">\n",
              "    <path d=\"M0 0h24v24H0V0z\" fill=\"none\"/>\n",
              "    <path d=\"M18.56 5.44l.94 2.06.94-2.06 2.06-.94-2.06-.94-.94-2.06-.94 2.06-2.06.94zm-11 1L8.5 8.5l.94-2.06 2.06-.94-2.06-.94L8.5 2.5l-.94 2.06-2.06.94zm10 10l.94 2.06.94-2.06 2.06-.94-2.06-.94-.94-2.06-.94 2.06-2.06.94z\"/><path d=\"M17.41 7.96l-1.37-1.37c-.4-.4-.92-.59-1.43-.59-.52 0-1.04.2-1.43.59L10.3 9.45l-7.72 7.72c-.78.78-.78 2.05 0 2.83L4 21.41c.39.39.9.59 1.41.59.51 0 1.02-.2 1.41-.59l7.78-7.78 2.81-2.81c.8-.78.8-2.07 0-2.86zM5.41 20L4 18.59l7.72-7.72 1.47 1.35L5.41 20z\"/>\n",
              "  </svg>\n",
              "      </button>\n",
              "      \n",
              "  <style>\n",
              "    .colab-df-container {\n",
              "      display:flex;\n",
              "      flex-wrap:wrap;\n",
              "      gap: 12px;\n",
              "    }\n",
              "\n",
              "    .colab-df-convert {\n",
              "      background-color: #E8F0FE;\n",
              "      border: none;\n",
              "      border-radius: 50%;\n",
              "      cursor: pointer;\n",
              "      display: none;\n",
              "      fill: #1967D2;\n",
              "      height: 32px;\n",
              "      padding: 0 0 0 0;\n",
              "      width: 32px;\n",
              "    }\n",
              "\n",
              "    .colab-df-convert:hover {\n",
              "      background-color: #E2EBFA;\n",
              "      box-shadow: 0px 1px 2px rgba(60, 64, 67, 0.3), 0px 1px 3px 1px rgba(60, 64, 67, 0.15);\n",
              "      fill: #174EA6;\n",
              "    }\n",
              "\n",
              "    [theme=dark] .colab-df-convert {\n",
              "      background-color: #3B4455;\n",
              "      fill: #D2E3FC;\n",
              "    }\n",
              "\n",
              "    [theme=dark] .colab-df-convert:hover {\n",
              "      background-color: #434B5C;\n",
              "      box-shadow: 0px 1px 3px 1px rgba(0, 0, 0, 0.15);\n",
              "      filter: drop-shadow(0px 1px 2px rgba(0, 0, 0, 0.3));\n",
              "      fill: #FFFFFF;\n",
              "    }\n",
              "  </style>\n",
              "\n",
              "      <script>\n",
              "        const buttonEl =\n",
              "          document.querySelector('#df-f1bd0769-90de-4840-99a1-54a76e35c9d3 button.colab-df-convert');\n",
              "        buttonEl.style.display =\n",
              "          google.colab.kernel.accessAllowed ? 'block' : 'none';\n",
              "\n",
              "        async function convertToInteractive(key) {\n",
              "          const element = document.querySelector('#df-f1bd0769-90de-4840-99a1-54a76e35c9d3');\n",
              "          const dataTable =\n",
              "            await google.colab.kernel.invokeFunction('convertToInteractive',\n",
              "                                                     [key], {});\n",
              "          if (!dataTable) return;\n",
              "\n",
              "          const docLinkHtml = 'Like what you see? Visit the ' +\n",
              "            '<a target=\"_blank\" href=https://colab.research.google.com/notebooks/data_table.ipynb>data table notebook</a>'\n",
              "            + ' to learn more about interactive tables.';\n",
              "          element.innerHTML = '';\n",
              "          dataTable['output_type'] = 'display_data';\n",
              "          await google.colab.output.renderOutput(dataTable, element);\n",
              "          const docLink = document.createElement('div');\n",
              "          docLink.innerHTML = docLinkHtml;\n",
              "          element.appendChild(docLink);\n",
              "        }\n",
              "      </script>\n",
              "    </div>\n",
              "  </div>\n",
              "  "
            ]
          },
          "metadata": {},
          "execution_count": 15
        }
      ]
    },
    {
      "cell_type": "markdown",
      "source": [
        "**Making Statistical Claims**\n",
        "\n",
        "\n",
        "\n",
        "1.   50% of the ISDs have a student to teacher ratio above 12\n",
        "2.   The mean student to teacher ratio is at least 12.50\n",
        "\n"
      ],
      "metadata": {
        "id": "3tiB5ql3cNv-"
      }
    },
    {
      "cell_type": "markdown",
      "source": [
        "1. ***Sample Proportion***\n",
        "\n",
        "H0: p = 0.5\\\n",
        "H0: p!= 0.5"
      ],
      "metadata": {
        "id": "mEYDBb62hgTC"
      }
    },
    {
      "cell_type": "code",
      "source": [
        "# Count number of ISD with ptr > 12\n",
        "count = (dataset.ptr > 12).sum().sum()"
      ],
      "metadata": {
        "id": "49zt64Hcb94J"
      },
      "execution_count": 19,
      "outputs": []
    },
    {
      "cell_type": "code",
      "source": [
        "count"
      ],
      "metadata": {
        "colab": {
          "base_uri": "https://localhost:8080/"
        },
        "id": "HaJOZFeNhMMc",
        "outputId": "61a9542c-ef45-43fb-eb8b-6ffc0155b233"
      },
      "execution_count": 18,
      "outputs": [
        {
          "output_type": "execute_result",
          "data": {
            "text/plain": [
              "62"
            ]
          },
          "metadata": {},
          "execution_count": 18
        }
      ]
    },
    {
      "cell_type": "markdown",
      "source": [
        "There are 62 ISD with ptr greater than 12. \n",
        "\n",
        "Therefore, the sample proportion p_hat = 0.62"
      ],
      "metadata": {
        "id": "y7Y1oQrPhSwk"
      }
    },
    {
      "cell_type": "code",
      "source": [
        "# set the sample size and number of successes\n",
        "n = 100\n",
        "p = 0.5\n",
        "x = 62\n",
        "\n",
        "# calculate the sample proportion\n",
        "sample_prop = x / n\n",
        "\n",
        "# calculate the population proportion\n",
        "pop_prop = p\n",
        "\n",
        "# calculate the standard error\n",
        "se = np.sqrt((pop_prop * (1 - pop_prop)) / n)\n",
        "\n",
        "# calculate the z-score\n",
        "z_score = (sample_prop - pop_prop) / se\n",
        "\n",
        "# calculate the p-value (two tailed hence the factor of 2)\n",
        "p_value = 2 * (1 - norm.cdf(abs(z_score)))\n",
        "\n",
        "# print the results\n",
        "print('z-score:', z_score)\n",
        "print('p-value:', p_value)\n"
      ],
      "metadata": {
        "colab": {
          "base_uri": "https://localhost:8080/"
        },
        "id": "1fyvJ_sjheKP",
        "outputId": "1ccc67a4-6cc4-48a9-f38b-cc8616d8c60d"
      },
      "execution_count": 21,
      "outputs": [
        {
          "output_type": "stream",
          "name": "stdout",
          "text": [
            "z-score: 2.4\n",
            "p-value: 0.01639507184919231\n"
          ]
        }
      ]
    },
    {
      "cell_type": "markdown",
      "source": [
        "The test statistics are\\\n",
        "z-score: 2.4\\\n",
        "p-value: 0.01639507184919231\\\n",
        "Hence it is safe to say that we reject the null hypothesis since the p-value is far less than the significant level of alpha = 0.05 or 95%"
      ],
      "metadata": {
        "id": "IY72sG5qj8V3"
      }
    },
    {
      "cell_type": "markdown",
      "source": [
        "2. ***Sample Mean***\n",
        "\n",
        "H0: mean = 12.50\\\n",
        "H1: mean < 12.50\\\n",
        "\n",
        "Known data about the population\\\n",
        "population mean = 12.72\\\n",
        "population std = 2.49\\\n",
        "sample std = 2.39"
      ],
      "metadata": {
        "id": "8tQFqV3okyRf"
      }
    },
    {
      "cell_type": "code",
      "source": [
        "# set the population mean and standard deviation\n",
        "pop_mean = 12.72\n",
        "pop_std = 2.49\n",
        "n = 100\n",
        "sample_mean = 12.50\n",
        "\n",
        "# calculate the z-score\n",
        "z_score = (sample_mean - pop_mean) / (pop_std / np.sqrt(n))\n",
        "\n",
        "# calculate the p-value (The value is left tailed)\n",
        "p_value = (1 - norm.cdf(abs(z_score)))\n",
        "\n",
        "# print the results\n",
        "print('z-score:', z_score)\n",
        "print('p-value:', p_value)\n"
      ],
      "metadata": {
        "colab": {
          "base_uri": "https://localhost:8080/"
        },
        "id": "YxBKJsz9jrgD",
        "outputId": "ab28c608-f2a0-4978-8ec8-ab93499cffaf"
      },
      "execution_count": 25,
      "outputs": [
        {
          "output_type": "stream",
          "name": "stdout",
          "text": [
            "z-score: -0.8835341365461872\n",
            "p-value: 0.18847387353552802\n"
          ]
        }
      ]
    },
    {
      "cell_type": "markdown",
      "source": [
        "The test statistics are \\\n",
        "z-score: -0.8835341365461872\\\n",
        "p-value: 0.18847387353552802\n",
        "\n",
        "Hence we fail to reject the null hypothesis since p-value > alpha = 0.05 (95%)"
      ],
      "metadata": {
        "id": "lQ1tZbRmn3XO"
      }
    },
    {
      "cell_type": "code",
      "source": [],
      "metadata": {
        "id": "KluEQbc6nlm7"
      },
      "execution_count": null,
      "outputs": []
    }
  ]
}