{
  "nbformat": 4,
  "nbformat_minor": 0,
  "metadata": {
    "colab": {
      "provenance": [],
      "authorship_tag": "ABX9TyM2hNJyqSGjlGfcFj5O6XC3",
      "include_colab_link": true
    },
    "kernelspec": {
      "name": "python3",
      "display_name": "Python 3"
    },
    "language_info": {
      "name": "python"
    }
  },
  "cells": [
    {
      "cell_type": "markdown",
      "metadata": {
        "id": "view-in-github",
        "colab_type": "text"
      },
      "source": [
        "<a href=\"https://colab.research.google.com/github/twumasimb/Exploratory-Data-Analysis/blob/main/EDA_final.ipynb\" target=\"_parent\"><img src=\"https://colab.research.google.com/assets/colab-badge.svg\" alt=\"Open In Colab\"/></a>"
      ]
    },
    {
      "cell_type": "code",
      "source": [
        "# Importing necessary libraries\n",
        "import matplotlib.pyplot as plt\n",
        "import numpy as np\n",
        "import seaborn as sns\n",
        "import pandas as pd\n",
        "import statsmodels.api as sm\n",
        "from scipy.stats import norm\n",
        "import random"
      ],
      "metadata": {
        "id": "kPQtnq-QYuXN"
      },
      "execution_count": 18,
      "outputs": []
    },
    {
      "cell_type": "code",
      "source": [
        "data = pd.read_csv('/content/sample_data/dataset.csv') # Importing the dataset"
      ],
      "metadata": {
        "id": "lPbpFabrZDJ7"
      },
      "execution_count": 19,
      "outputs": []
    },
    {
      "cell_type": "code",
      "source": [
        "# Population statistics\n",
        "data.describe()"
      ],
      "metadata": {
        "colab": {
          "base_uri": "https://localhost:8080/",
          "height": 300
        },
        "id": "JLyjk8C0dNQ_",
        "outputId": "026d96ec-fe8d-4abd-addb-2cebfed241d2"
      },
      "execution_count": 21,
      "outputs": [
        {
          "output_type": "execute_result",
          "data": {
            "text/plain": [
              "               ptr  Mean_rating\n",
              "count  1020.000000  1020.000000\n",
              "mean     12.724380     3.204280\n",
              "std       2.493322     0.539454\n",
              "min       4.070981     1.750000\n",
              "25%      11.012754     2.875000\n",
              "50%      12.769690     3.250000\n",
              "75%      14.688600     3.625000\n",
              "max      21.200001     4.000000"
            ],
            "text/html": [
              "\n",
              "  <div id=\"df-9d2d8e37-617c-4d87-aee0-d0e98a18e61c\">\n",
              "    <div class=\"colab-df-container\">\n",
              "      <div>\n",
              "<style scoped>\n",
              "    .dataframe tbody tr th:only-of-type {\n",
              "        vertical-align: middle;\n",
              "    }\n",
              "\n",
              "    .dataframe tbody tr th {\n",
              "        vertical-align: top;\n",
              "    }\n",
              "\n",
              "    .dataframe thead th {\n",
              "        text-align: right;\n",
              "    }\n",
              "</style>\n",
              "<table border=\"1\" class=\"dataframe\">\n",
              "  <thead>\n",
              "    <tr style=\"text-align: right;\">\n",
              "      <th></th>\n",
              "      <th>ptr</th>\n",
              "      <th>Mean_rating</th>\n",
              "    </tr>\n",
              "  </thead>\n",
              "  <tbody>\n",
              "    <tr>\n",
              "      <th>count</th>\n",
              "      <td>1020.000000</td>\n",
              "      <td>1020.000000</td>\n",
              "    </tr>\n",
              "    <tr>\n",
              "      <th>mean</th>\n",
              "      <td>12.724380</td>\n",
              "      <td>3.204280</td>\n",
              "    </tr>\n",
              "    <tr>\n",
              "      <th>std</th>\n",
              "      <td>2.493322</td>\n",
              "      <td>0.539454</td>\n",
              "    </tr>\n",
              "    <tr>\n",
              "      <th>min</th>\n",
              "      <td>4.070981</td>\n",
              "      <td>1.750000</td>\n",
              "    </tr>\n",
              "    <tr>\n",
              "      <th>25%</th>\n",
              "      <td>11.012754</td>\n",
              "      <td>2.875000</td>\n",
              "    </tr>\n",
              "    <tr>\n",
              "      <th>50%</th>\n",
              "      <td>12.769690</td>\n",
              "      <td>3.250000</td>\n",
              "    </tr>\n",
              "    <tr>\n",
              "      <th>75%</th>\n",
              "      <td>14.688600</td>\n",
              "      <td>3.625000</td>\n",
              "    </tr>\n",
              "    <tr>\n",
              "      <th>max</th>\n",
              "      <td>21.200001</td>\n",
              "      <td>4.000000</td>\n",
              "    </tr>\n",
              "  </tbody>\n",
              "</table>\n",
              "</div>\n",
              "      <button class=\"colab-df-convert\" onclick=\"convertToInteractive('df-9d2d8e37-617c-4d87-aee0-d0e98a18e61c')\"\n",
              "              title=\"Convert this dataframe to an interactive table.\"\n",
              "              style=\"display:none;\">\n",
              "        \n",
              "  <svg xmlns=\"http://www.w3.org/2000/svg\" height=\"24px\"viewBox=\"0 0 24 24\"\n",
              "       width=\"24px\">\n",
              "    <path d=\"M0 0h24v24H0V0z\" fill=\"none\"/>\n",
              "    <path d=\"M18.56 5.44l.94 2.06.94-2.06 2.06-.94-2.06-.94-.94-2.06-.94 2.06-2.06.94zm-11 1L8.5 8.5l.94-2.06 2.06-.94-2.06-.94L8.5 2.5l-.94 2.06-2.06.94zm10 10l.94 2.06.94-2.06 2.06-.94-2.06-.94-.94-2.06-.94 2.06-2.06.94z\"/><path d=\"M17.41 7.96l-1.37-1.37c-.4-.4-.92-.59-1.43-.59-.52 0-1.04.2-1.43.59L10.3 9.45l-7.72 7.72c-.78.78-.78 2.05 0 2.83L4 21.41c.39.39.9.59 1.41.59.51 0 1.02-.2 1.41-.59l7.78-7.78 2.81-2.81c.8-.78.8-2.07 0-2.86zM5.41 20L4 18.59l7.72-7.72 1.47 1.35L5.41 20z\"/>\n",
              "  </svg>\n",
              "      </button>\n",
              "      \n",
              "  <style>\n",
              "    .colab-df-container {\n",
              "      display:flex;\n",
              "      flex-wrap:wrap;\n",
              "      gap: 12px;\n",
              "    }\n",
              "\n",
              "    .colab-df-convert {\n",
              "      background-color: #E8F0FE;\n",
              "      border: none;\n",
              "      border-radius: 50%;\n",
              "      cursor: pointer;\n",
              "      display: none;\n",
              "      fill: #1967D2;\n",
              "      height: 32px;\n",
              "      padding: 0 0 0 0;\n",
              "      width: 32px;\n",
              "    }\n",
              "\n",
              "    .colab-df-convert:hover {\n",
              "      background-color: #E2EBFA;\n",
              "      box-shadow: 0px 1px 2px rgba(60, 64, 67, 0.3), 0px 1px 3px 1px rgba(60, 64, 67, 0.15);\n",
              "      fill: #174EA6;\n",
              "    }\n",
              "\n",
              "    [theme=dark] .colab-df-convert {\n",
              "      background-color: #3B4455;\n",
              "      fill: #D2E3FC;\n",
              "    }\n",
              "\n",
              "    [theme=dark] .colab-df-convert:hover {\n",
              "      background-color: #434B5C;\n",
              "      box-shadow: 0px 1px 3px 1px rgba(0, 0, 0, 0.15);\n",
              "      filter: drop-shadow(0px 1px 2px rgba(0, 0, 0, 0.3));\n",
              "      fill: #FFFFFF;\n",
              "    }\n",
              "  </style>\n",
              "\n",
              "      <script>\n",
              "        const buttonEl =\n",
              "          document.querySelector('#df-9d2d8e37-617c-4d87-aee0-d0e98a18e61c button.colab-df-convert');\n",
              "        buttonEl.style.display =\n",
              "          google.colab.kernel.accessAllowed ? 'block' : 'none';\n",
              "\n",
              "        async function convertToInteractive(key) {\n",
              "          const element = document.querySelector('#df-9d2d8e37-617c-4d87-aee0-d0e98a18e61c');\n",
              "          const dataTable =\n",
              "            await google.colab.kernel.invokeFunction('convertToInteractive',\n",
              "                                                     [key], {});\n",
              "          if (!dataTable) return;\n",
              "\n",
              "          const docLinkHtml = 'Like what you see? Visit the ' +\n",
              "            '<a target=\"_blank\" href=https://colab.research.google.com/notebooks/data_table.ipynb>data table notebook</a>'\n",
              "            + ' to learn more about interactive tables.';\n",
              "          element.innerHTML = '';\n",
              "          dataTable['output_type'] = 'display_data';\n",
              "          await google.colab.output.renderOutput(dataTable, element);\n",
              "          const docLink = document.createElement('div');\n",
              "          docLink.innerHTML = docLinkHtml;\n",
              "          element.appendChild(docLink);\n",
              "        }\n",
              "      </script>\n",
              "    </div>\n",
              "  </div>\n",
              "  "
            ]
          },
          "metadata": {},
          "execution_count": 21
        }
      ]
    },
    {
      "cell_type": "code",
      "source": [
        "data = data.drop(['TOT_ENR_M', 'TOT_ENR_F', 'TOT_ENR'], axis=1)"
      ],
      "metadata": {
        "id": "BOh8pQRSxs4G"
      },
      "execution_count": 20,
      "outputs": []
    },
    {
      "cell_type": "markdown",
      "source": [
        "> # **Question 1**\n",
        "\n",
        "\n"
      ],
      "metadata": {
        "id": "X340_y2Lw-Fh"
      }
    },
    {
      "cell_type": "code",
      "source": [
        "#randomly selecting 100 datapoints\n",
        "random.seed(20) # Ensure we get the same results all the time\n",
        "\n",
        "sampled_data = data.sample(n=100)\n"
      ],
      "metadata": {
        "id": "Qr3T46z9ZZNg"
      },
      "execution_count": null,
      "outputs": []
    },
    {
      "cell_type": "code",
      "source": [
        "#peeping at sampled data\n",
        "sampled_data.describe()"
      ],
      "metadata": {
        "colab": {
          "base_uri": "https://localhost:8080/",
          "height": 300
        },
        "id": "uouugqWSZ848",
        "outputId": "23381907-48e2-444b-ac6d-457fa1b6426e"
      },
      "execution_count": null,
      "outputs": [
        {
          "output_type": "execute_result",
          "data": {
            "text/plain": [
              "              ptr  Mean_rating\n",
              "count  100.000000   100.000000\n",
              "mean    12.685143     3.212500\n",
              "std      2.144150     0.552628\n",
              "min      8.299595     1.750000\n",
              "25%     10.915094     2.875000\n",
              "50%     12.598289     3.250000\n",
              "75%     14.356026     3.625000\n",
              "max     17.341938     4.000000"
            ],
            "text/html": [
              "\n",
              "  <div id=\"df-1075aee2-a4cc-4b0e-8017-6b2942a98ea6\">\n",
              "    <div class=\"colab-df-container\">\n",
              "      <div>\n",
              "<style scoped>\n",
              "    .dataframe tbody tr th:only-of-type {\n",
              "        vertical-align: middle;\n",
              "    }\n",
              "\n",
              "    .dataframe tbody tr th {\n",
              "        vertical-align: top;\n",
              "    }\n",
              "\n",
              "    .dataframe thead th {\n",
              "        text-align: right;\n",
              "    }\n",
              "</style>\n",
              "<table border=\"1\" class=\"dataframe\">\n",
              "  <thead>\n",
              "    <tr style=\"text-align: right;\">\n",
              "      <th></th>\n",
              "      <th>ptr</th>\n",
              "      <th>Mean_rating</th>\n",
              "    </tr>\n",
              "  </thead>\n",
              "  <tbody>\n",
              "    <tr>\n",
              "      <th>count</th>\n",
              "      <td>100.000000</td>\n",
              "      <td>100.000000</td>\n",
              "    </tr>\n",
              "    <tr>\n",
              "      <th>mean</th>\n",
              "      <td>12.685143</td>\n",
              "      <td>3.212500</td>\n",
              "    </tr>\n",
              "    <tr>\n",
              "      <th>std</th>\n",
              "      <td>2.144150</td>\n",
              "      <td>0.552628</td>\n",
              "    </tr>\n",
              "    <tr>\n",
              "      <th>min</th>\n",
              "      <td>8.299595</td>\n",
              "      <td>1.750000</td>\n",
              "    </tr>\n",
              "    <tr>\n",
              "      <th>25%</th>\n",
              "      <td>10.915094</td>\n",
              "      <td>2.875000</td>\n",
              "    </tr>\n",
              "    <tr>\n",
              "      <th>50%</th>\n",
              "      <td>12.598289</td>\n",
              "      <td>3.250000</td>\n",
              "    </tr>\n",
              "    <tr>\n",
              "      <th>75%</th>\n",
              "      <td>14.356026</td>\n",
              "      <td>3.625000</td>\n",
              "    </tr>\n",
              "    <tr>\n",
              "      <th>max</th>\n",
              "      <td>17.341938</td>\n",
              "      <td>4.000000</td>\n",
              "    </tr>\n",
              "  </tbody>\n",
              "</table>\n",
              "</div>\n",
              "      <button class=\"colab-df-convert\" onclick=\"convertToInteractive('df-1075aee2-a4cc-4b0e-8017-6b2942a98ea6')\"\n",
              "              title=\"Convert this dataframe to an interactive table.\"\n",
              "              style=\"display:none;\">\n",
              "        \n",
              "  <svg xmlns=\"http://www.w3.org/2000/svg\" height=\"24px\"viewBox=\"0 0 24 24\"\n",
              "       width=\"24px\">\n",
              "    <path d=\"M0 0h24v24H0V0z\" fill=\"none\"/>\n",
              "    <path d=\"M18.56 5.44l.94 2.06.94-2.06 2.06-.94-2.06-.94-.94-2.06-.94 2.06-2.06.94zm-11 1L8.5 8.5l.94-2.06 2.06-.94-2.06-.94L8.5 2.5l-.94 2.06-2.06.94zm10 10l.94 2.06.94-2.06 2.06-.94-2.06-.94-.94-2.06-.94 2.06-2.06.94z\"/><path d=\"M17.41 7.96l-1.37-1.37c-.4-.4-.92-.59-1.43-.59-.52 0-1.04.2-1.43.59L10.3 9.45l-7.72 7.72c-.78.78-.78 2.05 0 2.83L4 21.41c.39.39.9.59 1.41.59.51 0 1.02-.2 1.41-.59l7.78-7.78 2.81-2.81c.8-.78.8-2.07 0-2.86zM5.41 20L4 18.59l7.72-7.72 1.47 1.35L5.41 20z\"/>\n",
              "  </svg>\n",
              "      </button>\n",
              "      \n",
              "  <style>\n",
              "    .colab-df-container {\n",
              "      display:flex;\n",
              "      flex-wrap:wrap;\n",
              "      gap: 12px;\n",
              "    }\n",
              "\n",
              "    .colab-df-convert {\n",
              "      background-color: #E8F0FE;\n",
              "      border: none;\n",
              "      border-radius: 50%;\n",
              "      cursor: pointer;\n",
              "      display: none;\n",
              "      fill: #1967D2;\n",
              "      height: 32px;\n",
              "      padding: 0 0 0 0;\n",
              "      width: 32px;\n",
              "    }\n",
              "\n",
              "    .colab-df-convert:hover {\n",
              "      background-color: #E2EBFA;\n",
              "      box-shadow: 0px 1px 2px rgba(60, 64, 67, 0.3), 0px 1px 3px 1px rgba(60, 64, 67, 0.15);\n",
              "      fill: #174EA6;\n",
              "    }\n",
              "\n",
              "    [theme=dark] .colab-df-convert {\n",
              "      background-color: #3B4455;\n",
              "      fill: #D2E3FC;\n",
              "    }\n",
              "\n",
              "    [theme=dark] .colab-df-convert:hover {\n",
              "      background-color: #434B5C;\n",
              "      box-shadow: 0px 1px 3px 1px rgba(0, 0, 0, 0.15);\n",
              "      filter: drop-shadow(0px 1px 2px rgba(0, 0, 0, 0.3));\n",
              "      fill: #FFFFFF;\n",
              "    }\n",
              "  </style>\n",
              "\n",
              "      <script>\n",
              "        const buttonEl =\n",
              "          document.querySelector('#df-1075aee2-a4cc-4b0e-8017-6b2942a98ea6 button.colab-df-convert');\n",
              "        buttonEl.style.display =\n",
              "          google.colab.kernel.accessAllowed ? 'block' : 'none';\n",
              "\n",
              "        async function convertToInteractive(key) {\n",
              "          const element = document.querySelector('#df-1075aee2-a4cc-4b0e-8017-6b2942a98ea6');\n",
              "          const dataTable =\n",
              "            await google.colab.kernel.invokeFunction('convertToInteractive',\n",
              "                                                     [key], {});\n",
              "          if (!dataTable) return;\n",
              "\n",
              "          const docLinkHtml = 'Like what you see? Visit the ' +\n",
              "            '<a target=\"_blank\" href=https://colab.research.google.com/notebooks/data_table.ipynb>data table notebook</a>'\n",
              "            + ' to learn more about interactive tables.';\n",
              "          element.innerHTML = '';\n",
              "          dataTable['output_type'] = 'display_data';\n",
              "          await google.colab.output.renderOutput(dataTable, element);\n",
              "          const docLink = document.createElement('div');\n",
              "          docLink.innerHTML = docLinkHtml;\n",
              "          element.appendChild(docLink);\n",
              "        }\n",
              "      </script>\n",
              "    </div>\n",
              "  </div>\n",
              "  "
            ]
          },
          "metadata": {},
          "execution_count": 6
        }
      ]
    },
    {
      "cell_type": "code",
      "source": [
        "dataset = sampled_data"
      ],
      "metadata": {
        "id": "HynUTtCgaB07"
      },
      "execution_count": null,
      "outputs": []
    },
    {
      "cell_type": "code",
      "source": [
        "dataset.describe() # Sampled data statistics"
      ],
      "metadata": {
        "colab": {
          "base_uri": "https://localhost:8080/",
          "height": 300
        },
        "id": "W0sbbjiXbe98",
        "outputId": "254597fd-f17e-429b-dc44-ae3d504f0075"
      },
      "execution_count": null,
      "outputs": [
        {
          "output_type": "execute_result",
          "data": {
            "text/plain": [
              "              ptr  Mean_rating\n",
              "count  100.000000   100.000000\n",
              "mean    12.685143     3.212500\n",
              "std      2.144150     0.552628\n",
              "min      8.299595     1.750000\n",
              "25%     10.915094     2.875000\n",
              "50%     12.598289     3.250000\n",
              "75%     14.356026     3.625000\n",
              "max     17.341938     4.000000"
            ],
            "text/html": [
              "\n",
              "  <div id=\"df-030c0f67-dc30-44cf-b343-0998651ef903\">\n",
              "    <div class=\"colab-df-container\">\n",
              "      <div>\n",
              "<style scoped>\n",
              "    .dataframe tbody tr th:only-of-type {\n",
              "        vertical-align: middle;\n",
              "    }\n",
              "\n",
              "    .dataframe tbody tr th {\n",
              "        vertical-align: top;\n",
              "    }\n",
              "\n",
              "    .dataframe thead th {\n",
              "        text-align: right;\n",
              "    }\n",
              "</style>\n",
              "<table border=\"1\" class=\"dataframe\">\n",
              "  <thead>\n",
              "    <tr style=\"text-align: right;\">\n",
              "      <th></th>\n",
              "      <th>ptr</th>\n",
              "      <th>Mean_rating</th>\n",
              "    </tr>\n",
              "  </thead>\n",
              "  <tbody>\n",
              "    <tr>\n",
              "      <th>count</th>\n",
              "      <td>100.000000</td>\n",
              "      <td>100.000000</td>\n",
              "    </tr>\n",
              "    <tr>\n",
              "      <th>mean</th>\n",
              "      <td>12.685143</td>\n",
              "      <td>3.212500</td>\n",
              "    </tr>\n",
              "    <tr>\n",
              "      <th>std</th>\n",
              "      <td>2.144150</td>\n",
              "      <td>0.552628</td>\n",
              "    </tr>\n",
              "    <tr>\n",
              "      <th>min</th>\n",
              "      <td>8.299595</td>\n",
              "      <td>1.750000</td>\n",
              "    </tr>\n",
              "    <tr>\n",
              "      <th>25%</th>\n",
              "      <td>10.915094</td>\n",
              "      <td>2.875000</td>\n",
              "    </tr>\n",
              "    <tr>\n",
              "      <th>50%</th>\n",
              "      <td>12.598289</td>\n",
              "      <td>3.250000</td>\n",
              "    </tr>\n",
              "    <tr>\n",
              "      <th>75%</th>\n",
              "      <td>14.356026</td>\n",
              "      <td>3.625000</td>\n",
              "    </tr>\n",
              "    <tr>\n",
              "      <th>max</th>\n",
              "      <td>17.341938</td>\n",
              "      <td>4.000000</td>\n",
              "    </tr>\n",
              "  </tbody>\n",
              "</table>\n",
              "</div>\n",
              "      <button class=\"colab-df-convert\" onclick=\"convertToInteractive('df-030c0f67-dc30-44cf-b343-0998651ef903')\"\n",
              "              title=\"Convert this dataframe to an interactive table.\"\n",
              "              style=\"display:none;\">\n",
              "        \n",
              "  <svg xmlns=\"http://www.w3.org/2000/svg\" height=\"24px\"viewBox=\"0 0 24 24\"\n",
              "       width=\"24px\">\n",
              "    <path d=\"M0 0h24v24H0V0z\" fill=\"none\"/>\n",
              "    <path d=\"M18.56 5.44l.94 2.06.94-2.06 2.06-.94-2.06-.94-.94-2.06-.94 2.06-2.06.94zm-11 1L8.5 8.5l.94-2.06 2.06-.94-2.06-.94L8.5 2.5l-.94 2.06-2.06.94zm10 10l.94 2.06.94-2.06 2.06-.94-2.06-.94-.94-2.06-.94 2.06-2.06.94z\"/><path d=\"M17.41 7.96l-1.37-1.37c-.4-.4-.92-.59-1.43-.59-.52 0-1.04.2-1.43.59L10.3 9.45l-7.72 7.72c-.78.78-.78 2.05 0 2.83L4 21.41c.39.39.9.59 1.41.59.51 0 1.02-.2 1.41-.59l7.78-7.78 2.81-2.81c.8-.78.8-2.07 0-2.86zM5.41 20L4 18.59l7.72-7.72 1.47 1.35L5.41 20z\"/>\n",
              "  </svg>\n",
              "      </button>\n",
              "      \n",
              "  <style>\n",
              "    .colab-df-container {\n",
              "      display:flex;\n",
              "      flex-wrap:wrap;\n",
              "      gap: 12px;\n",
              "    }\n",
              "\n",
              "    .colab-df-convert {\n",
              "      background-color: #E8F0FE;\n",
              "      border: none;\n",
              "      border-radius: 50%;\n",
              "      cursor: pointer;\n",
              "      display: none;\n",
              "      fill: #1967D2;\n",
              "      height: 32px;\n",
              "      padding: 0 0 0 0;\n",
              "      width: 32px;\n",
              "    }\n",
              "\n",
              "    .colab-df-convert:hover {\n",
              "      background-color: #E2EBFA;\n",
              "      box-shadow: 0px 1px 2px rgba(60, 64, 67, 0.3), 0px 1px 3px 1px rgba(60, 64, 67, 0.15);\n",
              "      fill: #174EA6;\n",
              "    }\n",
              "\n",
              "    [theme=dark] .colab-df-convert {\n",
              "      background-color: #3B4455;\n",
              "      fill: #D2E3FC;\n",
              "    }\n",
              "\n",
              "    [theme=dark] .colab-df-convert:hover {\n",
              "      background-color: #434B5C;\n",
              "      box-shadow: 0px 1px 3px 1px rgba(0, 0, 0, 0.15);\n",
              "      filter: drop-shadow(0px 1px 2px rgba(0, 0, 0, 0.3));\n",
              "      fill: #FFFFFF;\n",
              "    }\n",
              "  </style>\n",
              "\n",
              "      <script>\n",
              "        const buttonEl =\n",
              "          document.querySelector('#df-030c0f67-dc30-44cf-b343-0998651ef903 button.colab-df-convert');\n",
              "        buttonEl.style.display =\n",
              "          google.colab.kernel.accessAllowed ? 'block' : 'none';\n",
              "\n",
              "        async function convertToInteractive(key) {\n",
              "          const element = document.querySelector('#df-030c0f67-dc30-44cf-b343-0998651ef903');\n",
              "          const dataTable =\n",
              "            await google.colab.kernel.invokeFunction('convertToInteractive',\n",
              "                                                     [key], {});\n",
              "          if (!dataTable) return;\n",
              "\n",
              "          const docLinkHtml = 'Like what you see? Visit the ' +\n",
              "            '<a target=\"_blank\" href=https://colab.research.google.com/notebooks/data_table.ipynb>data table notebook</a>'\n",
              "            + ' to learn more about interactive tables.';\n",
              "          element.innerHTML = '';\n",
              "          dataTable['output_type'] = 'display_data';\n",
              "          await google.colab.output.renderOutput(dataTable, element);\n",
              "          const docLink = document.createElement('div');\n",
              "          docLink.innerHTML = docLinkHtml;\n",
              "          element.appendChild(docLink);\n",
              "        }\n",
              "      </script>\n",
              "    </div>\n",
              "  </div>\n",
              "  "
            ]
          },
          "metadata": {},
          "execution_count": 8
        }
      ]
    },
    {
      "cell_type": "markdown",
      "source": [
        "**Making Statistical Claims**\n",
        "\n",
        "\n",
        "\n",
        "1.   50% of the ISDs have a student to teacher ratio above 12\n",
        "2.   The mean student to teacher ratio is at least 12.50\n",
        "\n"
      ],
      "metadata": {
        "id": "3tiB5ql3cNv-"
      }
    },
    {
      "cell_type": "markdown",
      "source": [
        "1. ***Sample Proportion***\n",
        "\n",
        "H0: p = 0.5\\\n",
        "H0: p!= 0.5"
      ],
      "metadata": {
        "id": "mEYDBb62hgTC"
      }
    },
    {
      "cell_type": "code",
      "source": [
        "# Count number of ISD with ptr > 12\n",
        "count = (dataset.ptr > 12).sum().sum()"
      ],
      "metadata": {
        "id": "49zt64Hcb94J"
      },
      "execution_count": null,
      "outputs": []
    },
    {
      "cell_type": "code",
      "source": [
        "count"
      ],
      "metadata": {
        "colab": {
          "base_uri": "https://localhost:8080/"
        },
        "id": "HaJOZFeNhMMc",
        "outputId": "9303ee6a-2371-43f3-c53f-3a2c5eaddb20"
      },
      "execution_count": null,
      "outputs": [
        {
          "output_type": "execute_result",
          "data": {
            "text/plain": [
              "61"
            ]
          },
          "metadata": {},
          "execution_count": 10
        }
      ]
    },
    {
      "cell_type": "markdown",
      "source": [
        "There are 62 ISD with ptr greater than 12. \n",
        "\n",
        "Therefore, the sample proportion p_hat = 0.61"
      ],
      "metadata": {
        "id": "y7Y1oQrPhSwk"
      }
    },
    {
      "cell_type": "code",
      "source": [
        "# set the sample size and number of successes\n",
        "n = 100\n",
        "p = 0.5\n",
        "x = 61\n",
        "\n",
        "# calculate the sample proportion\n",
        "sample_prop = x / n\n",
        "\n",
        "# calculate the population proportion\n",
        "pop_prop = p\n",
        "\n",
        "# calculate the standard error\n",
        "se = np.sqrt((pop_prop * (1 - pop_prop)) / n)\n",
        "\n",
        "# calculate the z-score\n",
        "z_score = (sample_prop - pop_prop) / se\n",
        "\n",
        "# calculate the p-value (two tailed hence the factor of 2)\n",
        "p_value = 2 * (1 - norm.cdf(abs(z_score)))\n",
        "\n",
        "# print the results\n",
        "print('z-score:', z_score)\n",
        "print('p-value:', p_value)\n"
      ],
      "metadata": {
        "colab": {
          "base_uri": "https://localhost:8080/"
        },
        "id": "1fyvJ_sjheKP",
        "outputId": "6ada300f-d38a-4eb1-d96d-4c528f6d8665"
      },
      "execution_count": null,
      "outputs": [
        {
          "output_type": "stream",
          "name": "stdout",
          "text": [
            "z-score: 2.1999999999999997\n",
            "p-value: 0.02780689502699718\n"
          ]
        }
      ]
    },
    {
      "cell_type": "code",
      "source": [
        "# Computing the Confidence Interval\n",
        "\n",
        "# z-value for 95% confidence level\n",
        "z = 1.96\n",
        "\n",
        "#proportions\n",
        "n = 100\n",
        "p_hat = 0.61\n",
        "q_hat = 1 - p_hat\n",
        "\n",
        "# Error \n",
        "E = z*(np.sqrt((p_hat*q_hat)/n))\n",
        "\n",
        "# Printing the CI \n",
        "lower_bound = p_hat - E\n",
        "upper_bound = p_hat + E\n",
        "\n",
        "print(f\"CI: ({lower_bound}, {upper_bound})\")\n"
      ],
      "metadata": {
        "colab": {
          "base_uri": "https://localhost:8080/"
        },
        "id": "DRdunQYuqiiC",
        "outputId": "8a09316a-2aab-4e25-add5-b3efbeed625c"
      },
      "execution_count": null,
      "outputs": [
        {
          "output_type": "stream",
          "name": "stdout",
          "text": [
            "CI: (0.5144010125576636, 0.7055989874423364)\n"
          ]
        }
      ]
    },
    {
      "cell_type": "markdown",
      "source": [
        "**Conclusion for Proportion**\n",
        "\n",
        "The test statistics are\\\n",
        "z-score: 2.1999999999999997\\\n",
        "p-value: 0.02780689502699718\\\n",
        "Hence it is safe to say that we reject the null hypothesis since the p-value is far less than the significant level of alpha = 0.05 or 95%\n",
        "\n",
        "CI: (0.5144010125576636, 0.7055989874423364)\n",
        "\n",
        "We are 95% confident that the proportion of ISD with student to teacher ratio above 12 falls within the confidence interval."
      ],
      "metadata": {
        "id": "IY72sG5qj8V3"
      }
    },
    {
      "cell_type": "markdown",
      "source": [
        "2. ***Sample Mean***\n",
        "\n",
        "H0: mean = 12.50\\\n",
        "H1: mean < 12.50\\\n",
        "\n",
        "Known data about the population\\\n",
        "population mean = 12.72\\\n",
        "population std = 2.49\\\n",
        "sample std = 2.14"
      ],
      "metadata": {
        "id": "8tQFqV3okyRf"
      }
    },
    {
      "cell_type": "code",
      "source": [
        "# set the population mean and standard deviation\n",
        "pop_mean = 12.72\n",
        "pop_std = 2.49\n",
        "n = 100\n",
        "sample_mean = 12.50\n",
        "\n",
        "# calculate the z-score\n",
        "z_score = (sample_mean - pop_mean) / (pop_std / np.sqrt(n))\n",
        "\n",
        "# calculate the p-value (The value is left tailed)\n",
        "p_value = (1 - norm.cdf(abs(z_score)))\n",
        "\n",
        "# print the results\n",
        "print('z-score:', z_score)\n",
        "print('p-value:', p_value)\n"
      ],
      "metadata": {
        "colab": {
          "base_uri": "https://localhost:8080/"
        },
        "id": "YxBKJsz9jrgD",
        "outputId": "dff1aa90-e6e4-4cc1-826e-976f46e7958f"
      },
      "execution_count": null,
      "outputs": [
        {
          "output_type": "stream",
          "name": "stdout",
          "text": [
            "z-score: -0.8835341365461872\n",
            "p-value: 0.18847387353552802\n"
          ]
        }
      ]
    },
    {
      "cell_type": "code",
      "source": [
        "# Computing the Confidence Interval\n",
        "\n",
        "# z-value for 95% confidence level\n",
        "z = 1.96\n",
        "\n",
        "# mean values\n",
        "n = 100\n",
        "sample_mean = 12.50\n",
        "pop_std = 2.49\n",
        "\n",
        "# Error \n",
        "E = z*(pop_std/np.sqrt(n))\n",
        "\n",
        "# Printing the CI \n",
        "lower_bound = sample_mean - E\n",
        "upper_bound = sample_mean + E\n",
        "\n",
        "print(f\"CI: ({lower_bound}, {upper_bound})\")\n"
      ],
      "metadata": {
        "colab": {
          "base_uri": "https://localhost:8080/"
        },
        "id": "t4qontKRsmB9",
        "outputId": "9e3579d2-935f-418b-e209-1ccb518633b3"
      },
      "execution_count": null,
      "outputs": [
        {
          "output_type": "stream",
          "name": "stdout",
          "text": [
            "CI: (12.01196, 12.98804)\n"
          ]
        }
      ]
    },
    {
      "cell_type": "markdown",
      "source": [
        "**Conclusion Mean Statistics**\n",
        "\n",
        "The test statistics are \\\n",
        "z-score: -0.8835341365461872\\\n",
        "p-value: 0.18847387353552802\n",
        "\n",
        "Hence we fail to reject the null hypothesis since p-value > alpha = 0.05 (95%)\n",
        "\n",
        "CI: (12.01196, 12.98804)\n",
        "We are 95% confident that the mean of ISD with student to teacher ratio of 12.50 falls within the confidence interval."
      ],
      "metadata": {
        "id": "lQ1tZbRmn3XO"
      }
    },
    {
      "cell_type": "markdown",
      "source": [
        "> # ** Question 2**"
      ],
      "metadata": {
        "id": "JbFWtIgsxK7w"
      }
    },
    {
      "cell_type": "code",
      "source": [
        "# randomly selecting 200 datapoints\n",
        "random.seed(30)\n",
        "\n",
        "sec_sample = data.sample(n=200)"
      ],
      "metadata": {
        "id": "AwIarYXbxV6p"
      },
      "execution_count": 28,
      "outputs": []
    },
    {
      "cell_type": "code",
      "source": [
        "sec_sample.describe()"
      ],
      "metadata": {
        "colab": {
          "base_uri": "https://localhost:8080/",
          "height": 300
        },
        "id": "fUuwXoXEzI66",
        "outputId": "9c891520-1bd6-4620-dfee-63fd786090d8"
      },
      "execution_count": 29,
      "outputs": [
        {
          "output_type": "execute_result",
          "data": {
            "text/plain": [
              "              ptr  Mean_rating\n",
              "count  200.000000   200.000000\n",
              "mean    12.733713     3.190268\n",
              "std      2.411932     0.549828\n",
              "min      5.384299     2.000000\n",
              "25%     11.317993     2.875000\n",
              "50%     12.836412     3.125000\n",
              "75%     14.391769     3.625000\n",
              "max     21.200001     4.000000"
            ],
            "text/html": [
              "\n",
              "  <div id=\"df-75301566-20b5-4817-aa40-c33e8f951e5a\">\n",
              "    <div class=\"colab-df-container\">\n",
              "      <div>\n",
              "<style scoped>\n",
              "    .dataframe tbody tr th:only-of-type {\n",
              "        vertical-align: middle;\n",
              "    }\n",
              "\n",
              "    .dataframe tbody tr th {\n",
              "        vertical-align: top;\n",
              "    }\n",
              "\n",
              "    .dataframe thead th {\n",
              "        text-align: right;\n",
              "    }\n",
              "</style>\n",
              "<table border=\"1\" class=\"dataframe\">\n",
              "  <thead>\n",
              "    <tr style=\"text-align: right;\">\n",
              "      <th></th>\n",
              "      <th>ptr</th>\n",
              "      <th>Mean_rating</th>\n",
              "    </tr>\n",
              "  </thead>\n",
              "  <tbody>\n",
              "    <tr>\n",
              "      <th>count</th>\n",
              "      <td>200.000000</td>\n",
              "      <td>200.000000</td>\n",
              "    </tr>\n",
              "    <tr>\n",
              "      <th>mean</th>\n",
              "      <td>12.733713</td>\n",
              "      <td>3.190268</td>\n",
              "    </tr>\n",
              "    <tr>\n",
              "      <th>std</th>\n",
              "      <td>2.411932</td>\n",
              "      <td>0.549828</td>\n",
              "    </tr>\n",
              "    <tr>\n",
              "      <th>min</th>\n",
              "      <td>5.384299</td>\n",
              "      <td>2.000000</td>\n",
              "    </tr>\n",
              "    <tr>\n",
              "      <th>25%</th>\n",
              "      <td>11.317993</td>\n",
              "      <td>2.875000</td>\n",
              "    </tr>\n",
              "    <tr>\n",
              "      <th>50%</th>\n",
              "      <td>12.836412</td>\n",
              "      <td>3.125000</td>\n",
              "    </tr>\n",
              "    <tr>\n",
              "      <th>75%</th>\n",
              "      <td>14.391769</td>\n",
              "      <td>3.625000</td>\n",
              "    </tr>\n",
              "    <tr>\n",
              "      <th>max</th>\n",
              "      <td>21.200001</td>\n",
              "      <td>4.000000</td>\n",
              "    </tr>\n",
              "  </tbody>\n",
              "</table>\n",
              "</div>\n",
              "      <button class=\"colab-df-convert\" onclick=\"convertToInteractive('df-75301566-20b5-4817-aa40-c33e8f951e5a')\"\n",
              "              title=\"Convert this dataframe to an interactive table.\"\n",
              "              style=\"display:none;\">\n",
              "        \n",
              "  <svg xmlns=\"http://www.w3.org/2000/svg\" height=\"24px\"viewBox=\"0 0 24 24\"\n",
              "       width=\"24px\">\n",
              "    <path d=\"M0 0h24v24H0V0z\" fill=\"none\"/>\n",
              "    <path d=\"M18.56 5.44l.94 2.06.94-2.06 2.06-.94-2.06-.94-.94-2.06-.94 2.06-2.06.94zm-11 1L8.5 8.5l.94-2.06 2.06-.94-2.06-.94L8.5 2.5l-.94 2.06-2.06.94zm10 10l.94 2.06.94-2.06 2.06-.94-2.06-.94-.94-2.06-.94 2.06-2.06.94z\"/><path d=\"M17.41 7.96l-1.37-1.37c-.4-.4-.92-.59-1.43-.59-.52 0-1.04.2-1.43.59L10.3 9.45l-7.72 7.72c-.78.78-.78 2.05 0 2.83L4 21.41c.39.39.9.59 1.41.59.51 0 1.02-.2 1.41-.59l7.78-7.78 2.81-2.81c.8-.78.8-2.07 0-2.86zM5.41 20L4 18.59l7.72-7.72 1.47 1.35L5.41 20z\"/>\n",
              "  </svg>\n",
              "      </button>\n",
              "      \n",
              "  <style>\n",
              "    .colab-df-container {\n",
              "      display:flex;\n",
              "      flex-wrap:wrap;\n",
              "      gap: 12px;\n",
              "    }\n",
              "\n",
              "    .colab-df-convert {\n",
              "      background-color: #E8F0FE;\n",
              "      border: none;\n",
              "      border-radius: 50%;\n",
              "      cursor: pointer;\n",
              "      display: none;\n",
              "      fill: #1967D2;\n",
              "      height: 32px;\n",
              "      padding: 0 0 0 0;\n",
              "      width: 32px;\n",
              "    }\n",
              "\n",
              "    .colab-df-convert:hover {\n",
              "      background-color: #E2EBFA;\n",
              "      box-shadow: 0px 1px 2px rgba(60, 64, 67, 0.3), 0px 1px 3px 1px rgba(60, 64, 67, 0.15);\n",
              "      fill: #174EA6;\n",
              "    }\n",
              "\n",
              "    [theme=dark] .colab-df-convert {\n",
              "      background-color: #3B4455;\n",
              "      fill: #D2E3FC;\n",
              "    }\n",
              "\n",
              "    [theme=dark] .colab-df-convert:hover {\n",
              "      background-color: #434B5C;\n",
              "      box-shadow: 0px 1px 3px 1px rgba(0, 0, 0, 0.15);\n",
              "      filter: drop-shadow(0px 1px 2px rgba(0, 0, 0, 0.3));\n",
              "      fill: #FFFFFF;\n",
              "    }\n",
              "  </style>\n",
              "\n",
              "      <script>\n",
              "        const buttonEl =\n",
              "          document.querySelector('#df-75301566-20b5-4817-aa40-c33e8f951e5a button.colab-df-convert');\n",
              "        buttonEl.style.display =\n",
              "          google.colab.kernel.accessAllowed ? 'block' : 'none';\n",
              "\n",
              "        async function convertToInteractive(key) {\n",
              "          const element = document.querySelector('#df-75301566-20b5-4817-aa40-c33e8f951e5a');\n",
              "          const dataTable =\n",
              "            await google.colab.kernel.invokeFunction('convertToInteractive',\n",
              "                                                     [key], {});\n",
              "          if (!dataTable) return;\n",
              "\n",
              "          const docLinkHtml = 'Like what you see? Visit the ' +\n",
              "            '<a target=\"_blank\" href=https://colab.research.google.com/notebooks/data_table.ipynb>data table notebook</a>'\n",
              "            + ' to learn more about interactive tables.';\n",
              "          element.innerHTML = '';\n",
              "          dataTable['output_type'] = 'display_data';\n",
              "          await google.colab.output.renderOutput(dataTable, element);\n",
              "          const docLink = document.createElement('div');\n",
              "          docLink.innerHTML = docLinkHtml;\n",
              "          element.appendChild(docLink);\n",
              "        }\n",
              "      </script>\n",
              "    </div>\n",
              "  </div>\n",
              "  "
            ]
          },
          "metadata": {},
          "execution_count": 29
        }
      ]
    },
    {
      "cell_type": "markdown",
      "source": [
        "***Hypothesis Testing***\\\n",
        "The proportion of ISDs with ptr > 12\n",
        "\n",
        "H0: p_hat_1 = p_hat_2\\\n",
        "H1: p_hat_1 != p_hat_2"
      ],
      "metadata": {
        "id": "W43OsQCmJqkS"
      }
    },
    {
      "cell_type": "code",
      "source": [
        "# Count number of ISD with ptr > 12\n",
        "count = (sec_sample.ptr > 12).sum().sum()\n",
        "count"
      ],
      "metadata": {
        "id": "JKDai-fzzLkX",
        "colab": {
          "base_uri": "https://localhost:8080/"
        },
        "outputId": "93c1d972-2b1b-45d7-bc88-e4cf91b30462"
      },
      "execution_count": 30,
      "outputs": [
        {
          "output_type": "execute_result",
          "data": {
            "text/plain": [
              "131"
            ]
          },
          "metadata": {},
          "execution_count": 30
        }
      ]
    },
    {
      "cell_type": "code",
      "source": [
        "p_hat_2 = count/sec_sample.count()\n",
        "p_hat_2"
      ],
      "metadata": {
        "colab": {
          "base_uri": "https://localhost:8080/"
        },
        "id": "77iVUDDLKdJD",
        "outputId": "cb6e56ca-6b83-44c9-a11a-0047db44ece8"
      },
      "execution_count": 31,
      "outputs": [
        {
          "output_type": "execute_result",
          "data": {
            "text/plain": [
              "ptr            0.655\n",
              "Mean_rating    0.655\n",
              "dtype: float64"
            ]
          },
          "metadata": {},
          "execution_count": 31
        }
      ]
    },
    {
      "cell_type": "code",
      "source": [
        "x1 = 61\n",
        "x2 = 131\n",
        "n1 = 100\n",
        "n2 = 200\n",
        "\n",
        "p_bar = (x1+x2)/(n1+n2)\n",
        "q_bar = 1 - p_bar\n",
        "\n",
        "print(\"p_bar: \",p_bar)\n",
        "print(\"q_bar: \",q_bar)\n",
        "\n",
        "p_hat_1 = 0.61\n",
        "p_hat_2 = 0.655\n",
        "q_hat_1 = 1 - p_hat_1\n",
        "q_hat_2 = 1 - p_hat_2\n",
        "\n",
        "print(\"p_hat_1: \",p_hat_1)\n",
        "print(\"p_hat_2: \",p_hat_2)\n",
        "print(\"q_hat_1: \",q_hat_1)\n",
        "print(\"q_hat_2: \",q_hat_2)\n",
        "\n",
        "# Compute the Z-score\n",
        "z_score = (p_hat_1 - p_hat_2)/np.sqrt(((p_bar*q_bar)/n1)+((p_bar*q_bar)/n2))\n",
        "\n",
        "# calculate the p-value (multiplying with 2 because it is two tailed)\n",
        "p_value = 2*(1 - norm.cdf(abs(z_score)))\n",
        "\n",
        "# print the results\n",
        "print('z-score:', z_score)\n",
        "print('p-value:', p_value)\n",
        "\n",
        "# Computing the confidence interval(confidence of 95%, z_value = 1.96)\n",
        "z_value = 1.96\n",
        "Error = z_value*(np.sqrt(((p_hat_1*q_hat_1)/n1) + (p_hat_2*q_hat_2)/n2))\n",
        "\n",
        "# Printing the CI \n",
        "lower_bound = (p_hat_1 - p_hat_2) - Error\n",
        "upper_bound = (p_hat_1 - p_hat_2) + Error\n",
        "\n",
        "print(f\"CI: ({lower_bound}, {upper_bound})\")\n",
        "\n"
      ],
      "metadata": {
        "colab": {
          "base_uri": "https://localhost:8080/"
        },
        "id": "V5JsImKOKxAh",
        "outputId": "aa3881b3-a24f-4044-9bd6-34ac481eadf8"
      },
      "execution_count": 33,
      "outputs": [
        {
          "output_type": "stream",
          "name": "stdout",
          "text": [
            "p_bar:  0.64\n",
            "q_bar:  0.36\n",
            "p_hat_1:  0.61\n",
            "p_hat_2:  0.655\n",
            "q_hat_1:  0.39\n",
            "q_hat_2:  0.345\n",
            "z-score: -0.7654655446197438\n",
            "p-value: 0.4439943760230092\n",
            "CI: (-0.16110208525259145, 0.07110208525259136)\n"
          ]
        }
      ]
    },
    {
      "cell_type": "markdown",
      "source": [
        "p_bar:  0.64\\\n",
        "q_bar:  0.36\\\n",
        "p_hat_1:  0.61\\\n",
        "p_hat_2:  0.655\\\n",
        "q_hat_1:  0.39\\\n",
        "q_hat_2:  0.345\\\n",
        "z-score: -0.7654655446197438\\\n",
        "p-value: 0.4439943760230092\\\n",
        "CI: (-0.16110208525259145, 0.07110208525259136)\\"
      ],
      "metadata": {
        "id": "vRlSDM94Qc4j"
      }
    },
    {
      "cell_type": "code",
      "source": [
        "from scipy.stats import t\n",
        "\n",
        "x_bar_1 = 12.69\n",
        "x_bar_2 = 12.73\n",
        "n1 = 100\n",
        "n2 = 200\n",
        "\n",
        "std_1 = 2.14\n",
        "std_2 = 2.41\n",
        "\n",
        "p_bar = (x1+x2)/(n1+n2)\n",
        "q_bar = 1 - p_bar\n",
        "\n",
        "print(\"p_bar: \",p_bar)\n",
        "print(\"q_bar: \",q_bar)\n",
        "\n",
        "p_hat_1 = 0.61\n",
        "p_hat_2 = 0.655\n",
        "q_hat_1 = 1 - p_hat_1\n",
        "q_hat_2 = 1 - p_hat_2\n",
        "\n",
        "print(\"p_hat_1: \",p_hat_1)\n",
        "print(\"p_hat_2: \",p_hat_2)\n",
        "print(\"q_hat_1: \",q_hat_1)\n",
        "print(\"q_hat_2: \",q_hat_2)\n",
        "\n",
        "# Calculate the t-value\n",
        "t_value = (x_bar_1 - x_bar_2) / (np.sqrt((std_1**2)/n1 + (std_2**2)/n2))\n",
        "\n",
        "# degrees of freedom\n",
        "df = n1 + n2 - 2 \n",
        "print(\"df\", df)\n",
        "\n",
        "# two-tailed test and p-value\n",
        "p_value = 2 * t.cdf(-np.abs(t_value), df)  \n",
        "\n",
        "print(\"t-value: {:.5f}\".format(t_value))\n",
        "print(\"p-value: {:.5f}\".format(p_value))\n",
        "\n",
        "# Computing the confidence interval(confidence of 95%, t_value = 1.980 (@df = 120))\n",
        "t_value = 1.980\n",
        "\n",
        "# Calculate the pooled standard deviation\n",
        "s_pooled = np.sqrt(((n1-1)*std_1**2 + (n2-1)*std_2**2) / (n1+n2-2))\n",
        "\n",
        "Error = t_value*(s_pooled * np.sqrt(1/n1 + 1/n2))\n",
        "print(\"Error margin:\", Error)\n",
        "\n",
        "# Printing the CI \n",
        "lower_bound = (x_bar_1 - x_bar_2) - Error\n",
        "upper_bound = (x_bar_1 - x_bar_2) + Error\n",
        "\n",
        "print(f\"CI: ({lower_bound}, {upper_bound})\")\n",
        "\n"
      ],
      "metadata": {
        "colab": {
          "base_uri": "https://localhost:8080/"
        },
        "id": "pagOIk1mQRBY",
        "outputId": "564d7a41-fb2e-4c42-adda-488b1c8a0ebe"
      },
      "execution_count": 36,
      "outputs": [
        {
          "output_type": "stream",
          "name": "stdout",
          "text": [
            "p_bar:  0.64\n",
            "q_bar:  0.36\n",
            "p_hat_1:  0.61\n",
            "p_hat_2:  0.655\n",
            "q_hat_1:  0.39\n",
            "q_hat_2:  0.345\n",
            "df 298\n",
            "t-value: -0.14622\n",
            "p-value: 0.88385\n",
            "Error margin: 0.5635165308277188\n",
            "CI: (-0.6035165308277197, 0.5235165308277179)\n"
          ]
        }
      ]
    },
    {
      "cell_type": "markdown",
      "source": [
        "p_bar:  0.64\\\n",
        "q_bar:  0.36\\\n",
        "p_hat_1:  0.61\\\n",
        "p_hat_2:  0.655\\\n",
        "q_hat_1:  0.39\\\n",
        "q_hat_2:  0.345\\\n",
        "df 298\\\n",
        "t-value: -0.14622\\\n",
        "p-value: 0.88385\\\n",
        "Error margin: 0.5635165308277188\\\n",
        "CI: (-0.6035165308277197, 0.5235165308277179)\\"
      ],
      "metadata": {
        "id": "sLUYq5N1VQef"
      }
    },
    {
      "cell_type": "code",
      "source": [],
      "metadata": {
        "id": "fXUC4tNxVNOS"
      },
      "execution_count": null,
      "outputs": []
    }
  ]
}